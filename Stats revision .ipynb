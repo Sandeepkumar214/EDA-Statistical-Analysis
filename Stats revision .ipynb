{
 "cells": [
  {
   "cell_type": "markdown",
   "id": "0f703991",
   "metadata": {},
   "source": [
    "# Statistics \n",
    "\n",
    "\n",
    "\n",
    "\n"
   ]
  },
  {
   "cell_type": "markdown",
   "id": "5c912973",
   "metadata": {},
   "source": [
    "### Example:\n",
    "\n",
    "\n",
    "#### 1. A survey claims that in a math test female students tend to score fewer marks than the average marks of 75 out of 100. Consider a sample of 24 female students and perform a hypothesis test to check the claim with 90% confidence.\n",
    "\n",
    "Use the dataset available in the CSV file `mathscore_1ttest.csv`.\n"
   ]
  },
  {
   "cell_type": "code",
   "execution_count": 3,
   "id": "763c6cf0",
   "metadata": {},
   "outputs": [],
   "source": [
    "import numpy as np\n",
    "import pandas as pd\n",
    "import scipy.stats as stats"
   ]
  },
  {
   "cell_type": "code",
   "execution_count": 4,
   "id": "8fd0e885",
   "metadata": {},
   "outputs": [],
   "source": [
    "data=pd.read_csv('mathscore_1ttest.csv')"
   ]
  },
  {
   "cell_type": "code",
   "execution_count": 16,
   "id": "b5f1a9aa",
   "metadata": {},
   "outputs": [],
   "source": [
    "# H0:mu>75\n",
    "# h1:mu<75\n",
    "mu=75\n",
    "n=24\n",
    "# # sd=not given\n",
    "# as population sd is not given and sample size is less than 30 so we use t test"
   ]
  },
  {
   "cell_type": "code",
   "execution_count": 9,
   "id": "dcc3363c",
   "metadata": {},
   "outputs": [],
   "source": [
    "math_fem_sam=data[data['gender']=='female']['math score'].tolist()"
   ]
  },
  {
   "cell_type": "code",
   "execution_count": 13,
   "id": "985ddcd2",
   "metadata": {},
   "outputs": [
    {
     "name": "stdout",
     "output_type": "stream",
     "text": [
      "size(n):24 \tsample_mean:66.45833333333333\t sample std:11.357740263313335\n"
     ]
    }
   ],
   "source": [
    "print(f'size(n):{len(math_fem_sam)} \\tsample_mean:{np.mean(math_fem_sam)}\\t sample std:{np.std(math_fem_sam)}')"
   ]
  },
  {
   "cell_type": "code",
   "execution_count": 20,
   "id": "75d15995",
   "metadata": {},
   "outputs": [],
   "source": [
    "p_value=stats.ttest_1samp(math_fem_sam,popmean=75,alternative='less').pvalue"
   ]
  },
  {
   "cell_type": "code",
   "execution_count": 21,
   "id": "b3f3dec3",
   "metadata": {},
   "outputs": [
    {
     "name": "stdout",
     "output_type": "stream",
     "text": [
      "Reject H0: Avearge marks of female math marks is less than 75\n"
     ]
    }
   ],
   "source": [
    "if p_value<.1:\n",
    "    print(\"Reject H0: Avearge marks of female math marks is less than 75\")\n",
    "else:\n",
    "    print(\"Fail to Reject H1: Avearge marks of female math marks is more than 75\")"
   ]
  },
  {
   "cell_type": "markdown",
   "id": "b7a2c89c",
   "metadata": {},
   "source": [
    "#### 2. A researcher is studying the growth of bacteria in waters of Lake Beach. The mean bacteria count of 100 per unit volume of water is within the safety level. The researcher collected 10 water samples of unit volume and found the mean bacteria count to be 94.8 with a sample variance of 72.66. Does the data indicate that the bacteria count is within the safety level? Test at the α = .05 level. Assume that the measurements constitute a sample from a normal population."
   ]
  },
  {
   "cell_type": "code",
   "execution_count": 25,
   "id": "fccdbb98",
   "metadata": {},
   "outputs": [
    {
     "name": "stdout",
     "output_type": "stream",
     "text": [
      "p_value:0.04289782134327503 \t t_stats:-1.9291040236750068\n",
      "Reject H0: safety level is below 100\n"
     ]
    }
   ],
   "source": [
    "n=10\n",
    "mu=100\n",
    "x_bar=94.8\n",
    "s=72.66**.5\n",
    "# # Assumption already considerd as sample is drawn from normal populaion\n",
    "# as population sd is not given and sample size is less than 30 therefore t test is used\n",
    "# H0:mu>100\n",
    "# H1:mu<100    \n",
    "t=(x_bar-mu)/(s/np.sqrt(n))\n",
    "p_value=stats.t.cdf(t,df=n-1)\n",
    "print(f'p_value:{p_value} \\t t_stats:{t}')\n",
    "\n",
    "if p_value<.05:\n",
    "    print(\"Reject H0: safety level is below 100\")\n",
    "else:\n",
    "    print(\"Fail to reject H0: Safety level is above 100\")"
   ]
  },
  {
   "cell_type": "markdown",
   "id": "706c04b5",
   "metadata": {},
   "source": [
    "### Example:\n",
    "\n",
    "#### 1. In previous years, people believed that at most 80% of male students score more than 50 marks out of 100 in Mathematics. Perform a test to check whether this percentage is more than 80. Consider the level of significance as 0.05.\n",
    "\n",
    "Consider the sample of math scores of male students available in the CSV file `StudentsPerformance.csv`."
   ]
  },
  {
   "cell_type": "code",
   "execution_count": null,
   "id": "34bcd296",
   "metadata": {},
   "outputs": [],
   "source": [
    "# H0:P0<.8\n",
    "# H1:P0>.8\n"
   ]
  },
  {
   "cell_type": "code",
   "execution_count": 26,
   "id": "b363b110",
   "metadata": {},
   "outputs": [],
   "source": [
    "data=pd.read_csv('StudentsPerformance.csv')"
   ]
  },
  {
   "cell_type": "code",
   "execution_count": 40,
   "id": "2dc12a62",
   "metadata": {},
   "outputs": [
    {
     "data": {
      "text/plain": [
       "0.8757763975155279"
      ]
     },
     "execution_count": 40,
     "metadata": {},
     "output_type": "execute_result"
    }
   ],
   "source": [
    "p=data[(data['math score']>50)&(data['gender']=='male')].shape[0]/len(data[(data['gender'] == 'male')])\n",
    "p"
   ]
  },
  {
   "cell_type": "code",
   "execution_count": 43,
   "id": "9a495d8b",
   "metadata": {},
   "outputs": [
    {
     "data": {
      "text/plain": [
       "4.163394160018601"
      ]
     },
     "execution_count": 43,
     "metadata": {},
     "output_type": "execute_result"
    }
   ],
   "source": [
    "P0=.8\n",
    "n=len(data[(data['gender'] == 'male')])\n",
    "\n",
    "z=(p-P0)/np.sqrt(P0*(1-P0)/n)\n",
    "z"
   ]
  },
  {
   "cell_type": "code",
   "execution_count": 45,
   "id": "91268ae7",
   "metadata": {},
   "outputs": [
    {
     "name": "stdout",
     "output_type": "stream",
     "text": [
      "P_value: 1.5677570141208797e-05\n",
      "z_stats: 4.163394160018601\n",
      "Reject H0: male math marks is greater than 50\n"
     ]
    }
   ],
   "source": [
    "p_value=stats.norm.sf(z)\n",
    "print(\"P_value:\",p_value)\n",
    "print(\"z_stats:\",z)\n",
    "\n",
    "if p_value<.05:\n",
    "    print(\"Reject H0: male math marks is greater than 50\")\n",
    "else:\n",
    "    print(\"Fail to reject H0: male math marks is  less than 50\")\n"
   ]
  },
  {
   "cell_type": "markdown",
   "id": "c6b42333",
   "metadata": {},
   "source": [
    "#### 2. From a sample of 361 business owners had gone into bankruptcy due to recession. On taking a survey, it was found that 105 of them had not consulted any professional for managing their finance before opening the business. Test the null hypothesis that at most 25% of all businesses had not consulted before opening the business. Test the claim using p-value technique. Use α = 0.05."
   ]
  },
  {
   "cell_type": "code",
   "execution_count": 48,
   "id": "4834b87f",
   "metadata": {},
   "outputs": [
    {
     "name": "stdout",
     "output_type": "stream",
     "text": [
      "p_value: 0.03650049373124949\n",
      "z_stats: 1.7928245201151534\n",
      "Reject H0\n"
     ]
    }
   ],
   "source": [
    "# H0:mu<=.25\n",
    "# H1:mu>.25    \n",
    "\n",
    "p=105/361\n",
    "P0=.25\n",
    "n=361\n",
    "z=(p-P0)/np.sqrt(P0*(1-P0)/n)\n",
    "p_value=stats.norm.sf(z)\n",
    "print(\"p_value:\",p_value)\n",
    "print(\"z_stats:\",z)\n",
    "\n",
    "if p_value<.05:\n",
    "    print(\"Reject H0\")\n",
    "else:\n",
    "    print(\"Fail to reject H0\")"
   ]
  },
  {
   "cell_type": "markdown",
   "id": "90f4657b",
   "metadata": {},
   "source": [
    "### Example:\n",
    "\n",
    "#### 1. The training institute <i>Nature Learning</i> claims that the students trained in their institute have overall better performance than the students trained in their competitor institute <i>Speak Global Learning</i>. We have a sample data of 500 students from each institute along with their total score collected from independent normal populations. Frame a hypothesis and test the Nature Learning's claim with 99% confidence.\n",
    "Consider the total score for students given in the CSV file `StudentsPerformance.csv`. "
   ]
  },
  {
   "cell_type": "code",
   "execution_count": 50,
   "id": "e71a3b25",
   "metadata": {},
   "outputs": [
    {
     "data": {
      "text/html": [
       "<div>\n",
       "<style scoped>\n",
       "    .dataframe tbody tr th:only-of-type {\n",
       "        vertical-align: middle;\n",
       "    }\n",
       "\n",
       "    .dataframe tbody tr th {\n",
       "        vertical-align: top;\n",
       "    }\n",
       "\n",
       "    .dataframe thead th {\n",
       "        text-align: right;\n",
       "    }\n",
       "</style>\n",
       "<table border=\"1\" class=\"dataframe\">\n",
       "  <thead>\n",
       "    <tr style=\"text-align: right;\">\n",
       "      <th></th>\n",
       "      <th>gender</th>\n",
       "      <th>race/ethnicity</th>\n",
       "      <th>lunch</th>\n",
       "      <th>test preparation course</th>\n",
       "      <th>math score</th>\n",
       "      <th>reading score</th>\n",
       "      <th>writing score</th>\n",
       "      <th>total score</th>\n",
       "      <th>training institute</th>\n",
       "    </tr>\n",
       "  </thead>\n",
       "  <tbody>\n",
       "    <tr>\n",
       "      <th>0</th>\n",
       "      <td>female</td>\n",
       "      <td>group B</td>\n",
       "      <td>standard</td>\n",
       "      <td>none</td>\n",
       "      <td>89</td>\n",
       "      <td>55</td>\n",
       "      <td>56</td>\n",
       "      <td>200</td>\n",
       "      <td>Nature Learning</td>\n",
       "    </tr>\n",
       "    <tr>\n",
       "      <th>1</th>\n",
       "      <td>female</td>\n",
       "      <td>group C</td>\n",
       "      <td>standard</td>\n",
       "      <td>completed</td>\n",
       "      <td>55</td>\n",
       "      <td>63</td>\n",
       "      <td>72</td>\n",
       "      <td>190</td>\n",
       "      <td>Nature Learning</td>\n",
       "    </tr>\n",
       "    <tr>\n",
       "      <th>2</th>\n",
       "      <td>female</td>\n",
       "      <td>group B</td>\n",
       "      <td>standard</td>\n",
       "      <td>none</td>\n",
       "      <td>64</td>\n",
       "      <td>71</td>\n",
       "      <td>56</td>\n",
       "      <td>191</td>\n",
       "      <td>Nature Learning</td>\n",
       "    </tr>\n",
       "    <tr>\n",
       "      <th>3</th>\n",
       "      <td>male</td>\n",
       "      <td>group A</td>\n",
       "      <td>free/reduced</td>\n",
       "      <td>none</td>\n",
       "      <td>60</td>\n",
       "      <td>99</td>\n",
       "      <td>72</td>\n",
       "      <td>231</td>\n",
       "      <td>Nature Learning</td>\n",
       "    </tr>\n",
       "    <tr>\n",
       "      <th>4</th>\n",
       "      <td>male</td>\n",
       "      <td>group C</td>\n",
       "      <td>standard</td>\n",
       "      <td>none</td>\n",
       "      <td>75</td>\n",
       "      <td>66</td>\n",
       "      <td>51</td>\n",
       "      <td>192</td>\n",
       "      <td>Nature Learning</td>\n",
       "    </tr>\n",
       "  </tbody>\n",
       "</table>\n",
       "</div>"
      ],
      "text/plain": [
       "   gender race/ethnicity         lunch test preparation course  math score  \\\n",
       "0  female        group B      standard                    none          89   \n",
       "1  female        group C      standard               completed          55   \n",
       "2  female        group B      standard                    none          64   \n",
       "3    male        group A  free/reduced                    none          60   \n",
       "4    male        group C      standard                    none          75   \n",
       "\n",
       "   reading score  writing score  total score training institute  \n",
       "0             55             56          200    Nature Learning  \n",
       "1             63             72          190    Nature Learning  \n",
       "2             71             56          191    Nature Learning  \n",
       "3             99             72          231    Nature Learning  \n",
       "4             66             51          192    Nature Learning  "
      ]
     },
     "execution_count": 50,
     "metadata": {},
     "output_type": "execute_result"
    }
   ],
   "source": [
    "# H0:mu1-mu2<0\n",
    "# H1:mu1(Nature learning)-mu2(speak global learning)>0\n",
    "data=pd.read_csv('StudentsPerformance.csv')    \n",
    "data.head()"
   ]
  },
  {
   "cell_type": "code",
   "execution_count": 56,
   "id": "3d7aade4",
   "metadata": {},
   "outputs": [],
   "source": [
    "training_ins=data[data['training institute']=='Nature Learning']['total score'].values"
   ]
  },
  {
   "cell_type": "code",
   "execution_count": 57,
   "id": "36a6c492",
   "metadata": {},
   "outputs": [],
   "source": [
    "speak_global=data[data['training institute']!='Nature Learning']['total score'].values"
   ]
  },
  {
   "cell_type": "code",
   "execution_count": null,
   "id": "f08a37cd",
   "metadata": {},
   "outputs": [],
   "source": [
    "# This is two sample z test as sample size is greater than 30"
   ]
  },
  {
   "cell_type": "code",
   "execution_count": 59,
   "id": "dd5fe4bf",
   "metadata": {},
   "outputs": [],
   "source": [
    "from statsmodels.stats import weightstats as wstats"
   ]
  },
  {
   "cell_type": "code",
   "execution_count": 65,
   "id": "effd0969",
   "metadata": {},
   "outputs": [],
   "source": [
    "p_value=wstats.ztest(x1=training_ins,x2=speak_global,alternative='larger')[1]"
   ]
  },
  {
   "cell_type": "code",
   "execution_count": 66,
   "id": "01264b18",
   "metadata": {},
   "outputs": [
    {
     "name": "stdout",
     "output_type": "stream",
     "text": [
      "Fail to reject H0\n"
     ]
    }
   ],
   "source": [
    "if p_value<.01:\n",
    "    print(\"Reject H0\")\n",
    "else:\n",
    "    print(\"Fail to reject H0\")"
   ]
  },
  {
   "cell_type": "markdown",
   "id": "cd748fd4",
   "metadata": {},
   "source": [
    "#### 2. A study was carried out to understand amount of haemoglobin in blood for males and females. A random sample of 160 males and 180 females have means of 13 g/dl and 15 g/dl. The two samples have standard deviation of 4.1 g/dl for male donors and 3.5 g/dl for female donor . Can it be said the population means of concentrations of the elements are the same for men and women? Use  α = 0.01."
   ]
  },
  {
   "cell_type": "markdown",
   "id": "af07c1de",
   "metadata": {},
   "source": [
    "### Example: \n",
    "\n",
    "#### 1. The teachers' association claims that the total score of the students who completed the test preparation course is different than the total score of the students who have not completed the course. The sample data consists of 15 students who completed the course and 18 students who have not completed the course. Test the association's claim with ⍺ = 0.05."
   ]
  },
  {
   "cell_type": "markdown",
   "id": "205861b8",
   "metadata": {},
   "source": [
    "Consider the total score of the students who have/ have not completed the preparation course are given in the CSV file `totalmarks_2ttest.csv`."
   ]
  },
  {
   "cell_type": "code",
   "execution_count": 81,
   "id": "ae05bfe7",
   "metadata": {},
   "outputs": [
    {
     "name": "stdout",
     "output_type": "stream",
     "text": [
      "ShapiroResult(statistic=0.9845389723777771, pvalue=0.9080861806869507)\n",
      "Fail to reject H0: Data is  normal\n"
     ]
    }
   ],
   "source": [
    "# Assumption 1 : normal distribution\n",
    "# h0: Data is normal\n",
    "# h1: data is not normal    \n",
    "p_value=stats.shapiro(data['total score']).pvalue\n",
    "print(stats.shapiro(data['total score']))\n",
    "if p_value<.01:\n",
    "    print(\"reject H0: data not is normal\")\n",
    "else:\n",
    "    print(\"Fail to reject H0: Data is  normal\")\n",
    "    "
   ]
  },
  {
   "cell_type": "code",
   "execution_count": 83,
   "id": "ca8d1f2d",
   "metadata": {},
   "outputs": [
    {
     "name": "stdout",
     "output_type": "stream",
     "text": [
      "ShapiroResult(statistic=0.9845389723777771, pvalue=0.9080861806869507)\n",
      "Fail to reject H0: variance are equal\n"
     ]
    }
   ],
   "source": [
    "# Assumption 2 : equal distribution\n",
    "# h0: variancce are equal\n",
    "# h1: variance are not equal    \n",
    "p_value=stats.levene(comp,not_comp).pvalue\n",
    "print(stats.shapiro(data['total score']))\n",
    "if p_value<.01:\n",
    "    print(\"reject H0: variance are not equal\")\n",
    "else:\n",
    "    print(\"Fail to reject H0: variance are equal\")\n",
    "    "
   ]
  },
  {
   "cell_type": "code",
   "execution_count": 69,
   "id": "6cfe9a06",
   "metadata": {},
   "outputs": [
    {
     "data": {
      "text/html": [
       "<div>\n",
       "<style scoped>\n",
       "    .dataframe tbody tr th:only-of-type {\n",
       "        vertical-align: middle;\n",
       "    }\n",
       "\n",
       "    .dataframe tbody tr th {\n",
       "        vertical-align: top;\n",
       "    }\n",
       "\n",
       "    .dataframe thead th {\n",
       "        text-align: right;\n",
       "    }\n",
       "</style>\n",
       "<table border=\"1\" class=\"dataframe\">\n",
       "  <thead>\n",
       "    <tr style=\"text-align: right;\">\n",
       "      <th></th>\n",
       "      <th>gender</th>\n",
       "      <th>race/ethnicity</th>\n",
       "      <th>lunch</th>\n",
       "      <th>test preparation course</th>\n",
       "      <th>math score</th>\n",
       "      <th>reading score</th>\n",
       "      <th>writing score</th>\n",
       "      <th>total score</th>\n",
       "      <th>training institute</th>\n",
       "    </tr>\n",
       "  </thead>\n",
       "  <tbody>\n",
       "    <tr>\n",
       "      <th>0</th>\n",
       "      <td>male</td>\n",
       "      <td>group E</td>\n",
       "      <td>standard</td>\n",
       "      <td>completed</td>\n",
       "      <td>84</td>\n",
       "      <td>83</td>\n",
       "      <td>78</td>\n",
       "      <td>245</td>\n",
       "      <td>Speak Global Learning</td>\n",
       "    </tr>\n",
       "    <tr>\n",
       "      <th>1</th>\n",
       "      <td>male</td>\n",
       "      <td>group C</td>\n",
       "      <td>free/reduced</td>\n",
       "      <td>completed</td>\n",
       "      <td>79</td>\n",
       "      <td>77</td>\n",
       "      <td>75</td>\n",
       "      <td>231</td>\n",
       "      <td>Speak Global Learning</td>\n",
       "    </tr>\n",
       "    <tr>\n",
       "      <th>2</th>\n",
       "      <td>male</td>\n",
       "      <td>group A</td>\n",
       "      <td>standard</td>\n",
       "      <td>none</td>\n",
       "      <td>91</td>\n",
       "      <td>96</td>\n",
       "      <td>92</td>\n",
       "      <td>279</td>\n",
       "      <td>Nature Learning</td>\n",
       "    </tr>\n",
       "    <tr>\n",
       "      <th>3</th>\n",
       "      <td>female</td>\n",
       "      <td>group B</td>\n",
       "      <td>free/reduced</td>\n",
       "      <td>completed</td>\n",
       "      <td>76</td>\n",
       "      <td>94</td>\n",
       "      <td>87</td>\n",
       "      <td>257</td>\n",
       "      <td>Speak Global Learning</td>\n",
       "    </tr>\n",
       "    <tr>\n",
       "      <th>4</th>\n",
       "      <td>male</td>\n",
       "      <td>group A</td>\n",
       "      <td>standard</td>\n",
       "      <td>completed</td>\n",
       "      <td>46</td>\n",
       "      <td>41</td>\n",
       "      <td>43</td>\n",
       "      <td>130</td>\n",
       "      <td>Nature Learning</td>\n",
       "    </tr>\n",
       "    <tr>\n",
       "      <th>5</th>\n",
       "      <td>female</td>\n",
       "      <td>group C</td>\n",
       "      <td>standard</td>\n",
       "      <td>completed</td>\n",
       "      <td>70</td>\n",
       "      <td>82</td>\n",
       "      <td>76</td>\n",
       "      <td>228</td>\n",
       "      <td>Speak Global Learning</td>\n",
       "    </tr>\n",
       "    <tr>\n",
       "      <th>6</th>\n",
       "      <td>male</td>\n",
       "      <td>group C</td>\n",
       "      <td>standard</td>\n",
       "      <td>none</td>\n",
       "      <td>79</td>\n",
       "      <td>78</td>\n",
       "      <td>77</td>\n",
       "      <td>234</td>\n",
       "      <td>Speak Global Learning</td>\n",
       "    </tr>\n",
       "    <tr>\n",
       "      <th>7</th>\n",
       "      <td>male</td>\n",
       "      <td>group D</td>\n",
       "      <td>standard</td>\n",
       "      <td>none</td>\n",
       "      <td>88</td>\n",
       "      <td>77</td>\n",
       "      <td>77</td>\n",
       "      <td>242</td>\n",
       "      <td>Nature Learning</td>\n",
       "    </tr>\n",
       "    <tr>\n",
       "      <th>8</th>\n",
       "      <td>female</td>\n",
       "      <td>group E</td>\n",
       "      <td>standard</td>\n",
       "      <td>none</td>\n",
       "      <td>62</td>\n",
       "      <td>73</td>\n",
       "      <td>70</td>\n",
       "      <td>205</td>\n",
       "      <td>Speak Global Learning</td>\n",
       "    </tr>\n",
       "    <tr>\n",
       "      <th>9</th>\n",
       "      <td>female</td>\n",
       "      <td>group B</td>\n",
       "      <td>standard</td>\n",
       "      <td>completed</td>\n",
       "      <td>60</td>\n",
       "      <td>70</td>\n",
       "      <td>74</td>\n",
       "      <td>204</td>\n",
       "      <td>Nature Learning</td>\n",
       "    </tr>\n",
       "    <tr>\n",
       "      <th>10</th>\n",
       "      <td>male</td>\n",
       "      <td>group B</td>\n",
       "      <td>standard</td>\n",
       "      <td>none</td>\n",
       "      <td>65</td>\n",
       "      <td>54</td>\n",
       "      <td>57</td>\n",
       "      <td>176</td>\n",
       "      <td>Speak Global Learning</td>\n",
       "    </tr>\n",
       "    <tr>\n",
       "      <th>11</th>\n",
       "      <td>male</td>\n",
       "      <td>group D</td>\n",
       "      <td>free/reduced</td>\n",
       "      <td>none</td>\n",
       "      <td>52</td>\n",
       "      <td>57</td>\n",
       "      <td>50</td>\n",
       "      <td>159</td>\n",
       "      <td>Nature Learning</td>\n",
       "    </tr>\n",
       "    <tr>\n",
       "      <th>12</th>\n",
       "      <td>female</td>\n",
       "      <td>group B</td>\n",
       "      <td>standard</td>\n",
       "      <td>none</td>\n",
       "      <td>53</td>\n",
       "      <td>58</td>\n",
       "      <td>65</td>\n",
       "      <td>176</td>\n",
       "      <td>Speak Global Learning</td>\n",
       "    </tr>\n",
       "    <tr>\n",
       "      <th>13</th>\n",
       "      <td>male</td>\n",
       "      <td>group D</td>\n",
       "      <td>standard</td>\n",
       "      <td>completed</td>\n",
       "      <td>58</td>\n",
       "      <td>59</td>\n",
       "      <td>58</td>\n",
       "      <td>175</td>\n",
       "      <td>Speak Global Learning</td>\n",
       "    </tr>\n",
       "    <tr>\n",
       "      <th>14</th>\n",
       "      <td>female</td>\n",
       "      <td>group D</td>\n",
       "      <td>free/reduced</td>\n",
       "      <td>none</td>\n",
       "      <td>46</td>\n",
       "      <td>56</td>\n",
       "      <td>57</td>\n",
       "      <td>159</td>\n",
       "      <td>Speak Global Learning</td>\n",
       "    </tr>\n",
       "    <tr>\n",
       "      <th>15</th>\n",
       "      <td>female</td>\n",
       "      <td>group D</td>\n",
       "      <td>standard</td>\n",
       "      <td>none</td>\n",
       "      <td>62</td>\n",
       "      <td>64</td>\n",
       "      <td>64</td>\n",
       "      <td>190</td>\n",
       "      <td>Speak Global Learning</td>\n",
       "    </tr>\n",
       "    <tr>\n",
       "      <th>16</th>\n",
       "      <td>female</td>\n",
       "      <td>group D</td>\n",
       "      <td>free/reduced</td>\n",
       "      <td>completed</td>\n",
       "      <td>69</td>\n",
       "      <td>86</td>\n",
       "      <td>81</td>\n",
       "      <td>236</td>\n",
       "      <td>Speak Global Learning</td>\n",
       "    </tr>\n",
       "    <tr>\n",
       "      <th>17</th>\n",
       "      <td>female</td>\n",
       "      <td>group B</td>\n",
       "      <td>standard</td>\n",
       "      <td>none</td>\n",
       "      <td>66</td>\n",
       "      <td>72</td>\n",
       "      <td>70</td>\n",
       "      <td>208</td>\n",
       "      <td>Nature Learning</td>\n",
       "    </tr>\n",
       "    <tr>\n",
       "      <th>18</th>\n",
       "      <td>female</td>\n",
       "      <td>group B</td>\n",
       "      <td>free/reduced</td>\n",
       "      <td>completed</td>\n",
       "      <td>67</td>\n",
       "      <td>80</td>\n",
       "      <td>81</td>\n",
       "      <td>228</td>\n",
       "      <td>Speak Global Learning</td>\n",
       "    </tr>\n",
       "    <tr>\n",
       "      <th>19</th>\n",
       "      <td>female</td>\n",
       "      <td>group E</td>\n",
       "      <td>standard</td>\n",
       "      <td>none</td>\n",
       "      <td>68</td>\n",
       "      <td>70</td>\n",
       "      <td>66</td>\n",
       "      <td>204</td>\n",
       "      <td>Speak Global Learning</td>\n",
       "    </tr>\n",
       "    <tr>\n",
       "      <th>20</th>\n",
       "      <td>female</td>\n",
       "      <td>group D</td>\n",
       "      <td>standard</td>\n",
       "      <td>none</td>\n",
       "      <td>68</td>\n",
       "      <td>71</td>\n",
       "      <td>75</td>\n",
       "      <td>214</td>\n",
       "      <td>Speak Global Learning</td>\n",
       "    </tr>\n",
       "    <tr>\n",
       "      <th>21</th>\n",
       "      <td>male</td>\n",
       "      <td>group E</td>\n",
       "      <td>standard</td>\n",
       "      <td>completed</td>\n",
       "      <td>81</td>\n",
       "      <td>81</td>\n",
       "      <td>79</td>\n",
       "      <td>241</td>\n",
       "      <td>Speak Global Learning</td>\n",
       "    </tr>\n",
       "    <tr>\n",
       "      <th>22</th>\n",
       "      <td>male</td>\n",
       "      <td>group D</td>\n",
       "      <td>standard</td>\n",
       "      <td>none</td>\n",
       "      <td>75</td>\n",
       "      <td>68</td>\n",
       "      <td>64</td>\n",
       "      <td>207</td>\n",
       "      <td>Nature Learning</td>\n",
       "    </tr>\n",
       "    <tr>\n",
       "      <th>23</th>\n",
       "      <td>female</td>\n",
       "      <td>group D</td>\n",
       "      <td>free/reduced</td>\n",
       "      <td>completed</td>\n",
       "      <td>42</td>\n",
       "      <td>61</td>\n",
       "      <td>58</td>\n",
       "      <td>161</td>\n",
       "      <td>Speak Global Learning</td>\n",
       "    </tr>\n",
       "    <tr>\n",
       "      <th>24</th>\n",
       "      <td>male</td>\n",
       "      <td>group D</td>\n",
       "      <td>standard</td>\n",
       "      <td>completed</td>\n",
       "      <td>85</td>\n",
       "      <td>81</td>\n",
       "      <td>85</td>\n",
       "      <td>251</td>\n",
       "      <td>Nature Learning</td>\n",
       "    </tr>\n",
       "    <tr>\n",
       "      <th>25</th>\n",
       "      <td>female</td>\n",
       "      <td>group C</td>\n",
       "      <td>standard</td>\n",
       "      <td>completed</td>\n",
       "      <td>60</td>\n",
       "      <td>64</td>\n",
       "      <td>74</td>\n",
       "      <td>198</td>\n",
       "      <td>Nature Learning</td>\n",
       "    </tr>\n",
       "    <tr>\n",
       "      <th>26</th>\n",
       "      <td>male</td>\n",
       "      <td>group D</td>\n",
       "      <td>standard</td>\n",
       "      <td>none</td>\n",
       "      <td>66</td>\n",
       "      <td>69</td>\n",
       "      <td>63</td>\n",
       "      <td>198</td>\n",
       "      <td>Nature Learning</td>\n",
       "    </tr>\n",
       "    <tr>\n",
       "      <th>27</th>\n",
       "      <td>female</td>\n",
       "      <td>group B</td>\n",
       "      <td>free/reduced</td>\n",
       "      <td>none</td>\n",
       "      <td>52</td>\n",
       "      <td>76</td>\n",
       "      <td>70</td>\n",
       "      <td>198</td>\n",
       "      <td>Nature Learning</td>\n",
       "    </tr>\n",
       "    <tr>\n",
       "      <th>28</th>\n",
       "      <td>female</td>\n",
       "      <td>group C</td>\n",
       "      <td>free/reduced</td>\n",
       "      <td>none</td>\n",
       "      <td>48</td>\n",
       "      <td>58</td>\n",
       "      <td>52</td>\n",
       "      <td>158</td>\n",
       "      <td>Nature Learning</td>\n",
       "    </tr>\n",
       "    <tr>\n",
       "      <th>29</th>\n",
       "      <td>female</td>\n",
       "      <td>group D</td>\n",
       "      <td>standard</td>\n",
       "      <td>completed</td>\n",
       "      <td>56</td>\n",
       "      <td>68</td>\n",
       "      <td>74</td>\n",
       "      <td>198</td>\n",
       "      <td>Speak Global Learning</td>\n",
       "    </tr>\n",
       "    <tr>\n",
       "      <th>30</th>\n",
       "      <td>female</td>\n",
       "      <td>group B</td>\n",
       "      <td>standard</td>\n",
       "      <td>none</td>\n",
       "      <td>41</td>\n",
       "      <td>55</td>\n",
       "      <td>51</td>\n",
       "      <td>147</td>\n",
       "      <td>Nature Learning</td>\n",
       "    </tr>\n",
       "    <tr>\n",
       "      <th>31</th>\n",
       "      <td>male</td>\n",
       "      <td>group C</td>\n",
       "      <td>standard</td>\n",
       "      <td>none</td>\n",
       "      <td>67</td>\n",
       "      <td>57</td>\n",
       "      <td>59</td>\n",
       "      <td>183</td>\n",
       "      <td>Nature Learning</td>\n",
       "    </tr>\n",
       "    <tr>\n",
       "      <th>32</th>\n",
       "      <td>male</td>\n",
       "      <td>group E</td>\n",
       "      <td>free/reduced</td>\n",
       "      <td>completed</td>\n",
       "      <td>79</td>\n",
       "      <td>74</td>\n",
       "      <td>72</td>\n",
       "      <td>225</td>\n",
       "      <td>Speak Global Learning</td>\n",
       "    </tr>\n",
       "  </tbody>\n",
       "</table>\n",
       "</div>"
      ],
      "text/plain": [
       "    gender race/ethnicity         lunch test preparation course  math score  \\\n",
       "0     male        group E      standard               completed          84   \n",
       "1     male        group C  free/reduced               completed          79   \n",
       "2     male        group A      standard                    none          91   \n",
       "3   female        group B  free/reduced               completed          76   \n",
       "4     male        group A      standard               completed          46   \n",
       "5   female        group C      standard               completed          70   \n",
       "6     male        group C      standard                    none          79   \n",
       "7     male        group D      standard                    none          88   \n",
       "8   female        group E      standard                    none          62   \n",
       "9   female        group B      standard               completed          60   \n",
       "10    male        group B      standard                    none          65   \n",
       "11    male        group D  free/reduced                    none          52   \n",
       "12  female        group B      standard                    none          53   \n",
       "13    male        group D      standard               completed          58   \n",
       "14  female        group D  free/reduced                    none          46   \n",
       "15  female        group D      standard                    none          62   \n",
       "16  female        group D  free/reduced               completed          69   \n",
       "17  female        group B      standard                    none          66   \n",
       "18  female        group B  free/reduced               completed          67   \n",
       "19  female        group E      standard                    none          68   \n",
       "20  female        group D      standard                    none          68   \n",
       "21    male        group E      standard               completed          81   \n",
       "22    male        group D      standard                    none          75   \n",
       "23  female        group D  free/reduced               completed          42   \n",
       "24    male        group D      standard               completed          85   \n",
       "25  female        group C      standard               completed          60   \n",
       "26    male        group D      standard                    none          66   \n",
       "27  female        group B  free/reduced                    none          52   \n",
       "28  female        group C  free/reduced                    none          48   \n",
       "29  female        group D      standard               completed          56   \n",
       "30  female        group B      standard                    none          41   \n",
       "31    male        group C      standard                    none          67   \n",
       "32    male        group E  free/reduced               completed          79   \n",
       "\n",
       "    reading score  writing score  total score     training institute  \n",
       "0              83             78          245  Speak Global Learning  \n",
       "1              77             75          231  Speak Global Learning  \n",
       "2              96             92          279        Nature Learning  \n",
       "3              94             87          257  Speak Global Learning  \n",
       "4              41             43          130        Nature Learning  \n",
       "5              82             76          228  Speak Global Learning  \n",
       "6              78             77          234  Speak Global Learning  \n",
       "7              77             77          242        Nature Learning  \n",
       "8              73             70          205  Speak Global Learning  \n",
       "9              70             74          204        Nature Learning  \n",
       "10             54             57          176  Speak Global Learning  \n",
       "11             57             50          159        Nature Learning  \n",
       "12             58             65          176  Speak Global Learning  \n",
       "13             59             58          175  Speak Global Learning  \n",
       "14             56             57          159  Speak Global Learning  \n",
       "15             64             64          190  Speak Global Learning  \n",
       "16             86             81          236  Speak Global Learning  \n",
       "17             72             70          208        Nature Learning  \n",
       "18             80             81          228  Speak Global Learning  \n",
       "19             70             66          204  Speak Global Learning  \n",
       "20             71             75          214  Speak Global Learning  \n",
       "21             81             79          241  Speak Global Learning  \n",
       "22             68             64          207        Nature Learning  \n",
       "23             61             58          161  Speak Global Learning  \n",
       "24             81             85          251        Nature Learning  \n",
       "25             64             74          198        Nature Learning  \n",
       "26             69             63          198        Nature Learning  \n",
       "27             76             70          198        Nature Learning  \n",
       "28             58             52          158        Nature Learning  \n",
       "29             68             74          198  Speak Global Learning  \n",
       "30             55             51          147        Nature Learning  \n",
       "31             57             59          183        Nature Learning  \n",
       "32             74             72          225  Speak Global Learning  "
      ]
     },
     "execution_count": 69,
     "metadata": {},
     "output_type": "execute_result"
    }
   ],
   "source": [
    "# H0:mu1=mu2\n",
    "# H1:mu1(course completed)-mu2(not completed)!=0\n",
    "n1=15\n",
    "n2=18\n",
    "# this is two sample t test unpaired test as samples drawn are independent and sample size is also small\n",
    "\n",
    "\n",
    "data=pd.read_csv('totalmarks_2ttest.csv')\n",
    "data"
   ]
  },
  {
   "cell_type": "code",
   "execution_count": 72,
   "id": "c98d689b",
   "metadata": {},
   "outputs": [],
   "source": [
    "comp=data[data['test preparation course']=='completed']['total score'].values\n",
    "not_comp=data[data['test preparation course']!='completed']['total score'].values"
   ]
  },
  {
   "cell_type": "code",
   "execution_count": 84,
   "id": "0f95fd34",
   "metadata": {},
   "outputs": [],
   "source": [
    "p_value=stats.ttest_ind(comp,not_comp).pvalue"
   ]
  },
  {
   "cell_type": "code",
   "execution_count": 85,
   "id": "5f5fd887",
   "metadata": {},
   "outputs": [
    {
     "name": "stdout",
     "output_type": "stream",
     "text": [
      "Fail to Reject H0\n"
     ]
    }
   ],
   "source": [
    "if p_value<.05:\n",
    "    print(\"Reject H0\")\n",
    "else:\n",
    "    print(\"Fail to Reject H0\")"
   ]
  },
  {
   "cell_type": "markdown",
   "id": "2988cd7f",
   "metadata": {},
   "source": [
    "### Example:\n",
    "\n",
    "#### 1. A training institute wants to check if their writing training program was effective or not. 17 students are selected to check the hypothesis. Consider 0.05 as the level of significance.\n",
    "\n",
    "The writing scores before and after training are provided in the CSV file `WritingScores.csv`. "
   ]
  },
  {
   "cell_type": "code",
   "execution_count": null,
   "id": "b900986e",
   "metadata": {},
   "outputs": [],
   "source": [
    "H0: mu1(before) -mu2(after)=0\n",
    "H1: mu1(before) -mu2(after)!=0"
   ]
  },
  {
   "cell_type": "code",
   "execution_count": 89,
   "id": "bf484852",
   "metadata": {},
   "outputs": [
    {
     "data": {
      "text/html": [
       "<div>\n",
       "<style scoped>\n",
       "    .dataframe tbody tr th:only-of-type {\n",
       "        vertical-align: middle;\n",
       "    }\n",
       "\n",
       "    .dataframe tbody tr th {\n",
       "        vertical-align: top;\n",
       "    }\n",
       "\n",
       "    .dataframe thead th {\n",
       "        text-align: right;\n",
       "    }\n",
       "</style>\n",
       "<table border=\"1\" class=\"dataframe\">\n",
       "  <thead>\n",
       "    <tr style=\"text-align: right;\">\n",
       "      <th></th>\n",
       "      <th>score_before</th>\n",
       "      <th>score_after</th>\n",
       "    </tr>\n",
       "  </thead>\n",
       "  <tbody>\n",
       "    <tr>\n",
       "      <th>0</th>\n",
       "      <td>59</td>\n",
       "      <td>50</td>\n",
       "    </tr>\n",
       "    <tr>\n",
       "      <th>1</th>\n",
       "      <td>62</td>\n",
       "      <td>67</td>\n",
       "    </tr>\n",
       "  </tbody>\n",
       "</table>\n",
       "</div>"
      ],
      "text/plain": [
       "   score_before  score_after\n",
       "0            59           50\n",
       "1            62           67"
      ]
     },
     "execution_count": 89,
     "metadata": {},
     "output_type": "execute_result"
    }
   ],
   "source": [
    "data=pd.read_csv('WritingScores.csv')\n",
    "data.head(2)"
   ]
  },
  {
   "cell_type": "code",
   "execution_count": 90,
   "id": "e7b1192a",
   "metadata": {},
   "outputs": [],
   "source": [
    "# as n is less than 30 and before after si there or paired t test is used here"
   ]
  },
  {
   "cell_type": "code",
   "execution_count": 95,
   "id": "8ba8ce07",
   "metadata": {},
   "outputs": [
    {
     "name": "stdout",
     "output_type": "stream",
     "text": [
      "Fail to reject H0: data is normal\n",
      "Fail to reject H0: data is normal\n"
     ]
    }
   ],
   "source": [
    "# Assumption 1:\n",
    "# part 1\n",
    "\n",
    "p_value=stats.shapiro(data['score_before']).pvalue\n",
    "if p_value<.01:\n",
    "    print(\"reject H0: data is not normal\")\n",
    "else:\n",
    "    print(\"Fail to reject H0: data is normal\")\n",
    "    \n",
    "# part 2    \n",
    "p_value=stats.shapiro(data['score_after']).pvalue\n",
    "if p_value<.01:\n",
    "    print(\"reject H0: data is not normal\")\n",
    "else:\n",
    "    print(\"Fail to reject H0: data is normal\")\n",
    "    "
   ]
  },
  {
   "cell_type": "code",
   "execution_count": 99,
   "id": "0f069702",
   "metadata": {},
   "outputs": [],
   "source": [
    "diff=(abs(data['score_before']-data['score_after'])).values"
   ]
  },
  {
   "cell_type": "code",
   "execution_count": 103,
   "id": "838d919a",
   "metadata": {},
   "outputs": [
    {
     "name": "stdout",
     "output_type": "stream",
     "text": [
      "Fail to rejct H0\n"
     ]
    }
   ],
   "source": [
    "p_value=stats.ttest_rel(data['score_before'],data['score_after']).pvalue\n",
    "if  p_value<.05:\n",
    "    print(\"reject H0\")\n",
    "else:\n",
    "    print(\"Fail to rejct H0\")"
   ]
  },
  {
   "cell_type": "markdown",
   "id": "00f3298c",
   "metadata": {},
   "source": [
    "### Example:\n",
    "\n",
    "#### 1. Check whether there is a significant difference between the observed and expected education values or not with 90% confidence. \n",
    "\n",
    "Consider the observed values from the performance dataset of students available in the CSV file `students_data.csv`. Consider the expected values from the demographic data given in the CSV file `demographic_data.csv`."
   ]
  },
  {
   "cell_type": "code",
   "execution_count": 113,
   "id": "57bec2a2",
   "metadata": {},
   "outputs": [],
   "source": [
    "exp_data=pd.read_csv('demographic_data.csv')\n",
    "obs_data=pd.read_csv('students_data.csv')"
   ]
  },
  {
   "cell_type": "code",
   "execution_count": null,
   "id": "132bace9",
   "metadata": {},
   "outputs": [],
   "source": [
    "# H0: there is no significant difference between observed and expected value\n",
    "# H1: There is significiant differnce between oberved and expected value    \n",
    "    "
   ]
  },
  {
   "cell_type": "code",
   "execution_count": 114,
   "id": "7da802d6",
   "metadata": {},
   "outputs": [
    {
     "data": {
      "text/plain": [
       "(1000, 10)"
      ]
     },
     "execution_count": 114,
     "metadata": {},
     "output_type": "execute_result"
    }
   ],
   "source": [
    "obs_data.shape"
   ]
  },
  {
   "cell_type": "code",
   "execution_count": 130,
   "id": "54acf666",
   "metadata": {},
   "outputs": [],
   "source": [
    "observed=obs_data['education'].value_counts().values"
   ]
  },
  {
   "cell_type": "code",
   "execution_count": 131,
   "id": "24532959",
   "metadata": {},
   "outputs": [],
   "source": [
    "expected=(exp_data.value_counts(normalize=True)*obs_data.shape[0]).values"
   ]
  },
  {
   "cell_type": "code",
   "execution_count": 136,
   "id": "89a2ed15",
   "metadata": {},
   "outputs": [],
   "source": [
    "p_value=stats.chisquare(observed,expected).pvalue"
   ]
  },
  {
   "cell_type": "code",
   "execution_count": 137,
   "id": "3e224a8e",
   "metadata": {},
   "outputs": [
    {
     "name": "stdout",
     "output_type": "stream",
     "text": [
      "reject H0\n"
     ]
    }
   ],
   "source": [
    "if p_value<.10:\n",
    "    print(\"reject H0\")\n",
    "else:\n",
    "    print(\"Fail to reject H0\")"
   ]
  },
  {
   "cell_type": "markdown",
   "id": "a42c3f82",
   "metadata": {},
   "source": [
    "#### 2. At an emporium, the manager is interested in knowing the age group which visits the mall during the day. He defines categories as - children, teenagers, adults and senior citizens. He plans to have his inventory of goods accordingly. He claims that out of all the people who visited 5% are children, 38% are teenagers, 2% are senior citizens are remaining are adults. From a sample of 180 people, it was seen that 25 were children, 50 were teenagers, 90 were adults and  15 were senior citizens. Test the manager’s claim at a 95% confidence level.\n"
   ]
  },
  {
   "cell_type": "code",
   "execution_count": 194,
   "id": "ffffae0f",
   "metadata": {},
   "outputs": [],
   "source": [
    "df=pd.DataFrame([[.05,.38,.55,.02],[25,50,90,15]],columns=['children','teenager','adults','senior citizen'])"
   ]
  },
  {
   "cell_type": "code",
   "execution_count": 195,
   "id": "bee12845",
   "metadata": {},
   "outputs": [
    {
     "data": {
      "text/html": [
       "<div>\n",
       "<style scoped>\n",
       "    .dataframe tbody tr th:only-of-type {\n",
       "        vertical-align: middle;\n",
       "    }\n",
       "\n",
       "    .dataframe tbody tr th {\n",
       "        vertical-align: top;\n",
       "    }\n",
       "\n",
       "    .dataframe thead th {\n",
       "        text-align: right;\n",
       "    }\n",
       "</style>\n",
       "<table border=\"1\" class=\"dataframe\">\n",
       "  <thead>\n",
       "    <tr style=\"text-align: right;\">\n",
       "      <th></th>\n",
       "      <th>children</th>\n",
       "      <th>teenager</th>\n",
       "      <th>adults</th>\n",
       "      <th>senior citizen</th>\n",
       "    </tr>\n",
       "  </thead>\n",
       "  <tbody>\n",
       "    <tr>\n",
       "      <th>0</th>\n",
       "      <td>0.05</td>\n",
       "      <td>0.38</td>\n",
       "      <td>0.55</td>\n",
       "      <td>0.02</td>\n",
       "    </tr>\n",
       "    <tr>\n",
       "      <th>1</th>\n",
       "      <td>25.00</td>\n",
       "      <td>50.00</td>\n",
       "      <td>90.00</td>\n",
       "      <td>15.00</td>\n",
       "    </tr>\n",
       "  </tbody>\n",
       "</table>\n",
       "</div>"
      ],
      "text/plain": [
       "   children  teenager  adults  senior citizen\n",
       "0      0.05      0.38    0.55            0.02\n",
       "1     25.00     50.00   90.00           15.00"
      ]
     },
     "execution_count": 195,
     "metadata": {},
     "output_type": "execute_result"
    }
   ],
   "source": [
    "df"
   ]
  },
  {
   "cell_type": "code",
   "execution_count": 196,
   "id": "4f6ea8c4",
   "metadata": {},
   "outputs": [
    {
     "data": {
      "text/plain": [
       "180.0"
      ]
     },
     "execution_count": 196,
     "metadata": {},
     "output_type": "execute_result"
    }
   ],
   "source": [
    "df.iloc[1,:].sum()"
   ]
  },
  {
   "cell_type": "code",
   "execution_count": 197,
   "id": "b3fbc5f5",
   "metadata": {},
   "outputs": [],
   "source": [
    "observed=df.iloc[1,:].tolist()"
   ]
  },
  {
   "cell_type": "code",
   "execution_count": 198,
   "id": "ae02bf11",
   "metadata": {},
   "outputs": [],
   "source": [
    "expected=(df.iloc[0,:]*df.iloc[1,:].sum()).tolist()"
   ]
  },
  {
   "cell_type": "code",
   "execution_count": 199,
   "id": "770108e7",
   "metadata": {},
   "outputs": [
    {
     "data": {
      "text/plain": [
       "[9.0, 68.4, 99.00000000000001, 3.6]"
      ]
     },
     "execution_count": 199,
     "metadata": {},
     "output_type": "execute_result"
    }
   ],
   "source": [
    "expected"
   ]
  },
  {
   "cell_type": "code",
   "execution_count": 200,
   "id": "8a08fb4c",
   "metadata": {},
   "outputs": [
    {
     "data": {
      "text/plain": [
       "[25.0, 50.0, 90.0, 15.0]"
      ]
     },
     "execution_count": 200,
     "metadata": {},
     "output_type": "execute_result"
    }
   ],
   "source": [
    "observed"
   ]
  },
  {
   "cell_type": "code",
   "execution_count": 201,
   "id": "7d7d7f2a",
   "metadata": {},
   "outputs": [
    {
     "data": {
      "text/html": [
       "<div>\n",
       "<style scoped>\n",
       "    .dataframe tbody tr th:only-of-type {\n",
       "        vertical-align: middle;\n",
       "    }\n",
       "\n",
       "    .dataframe tbody tr th {\n",
       "        vertical-align: top;\n",
       "    }\n",
       "\n",
       "    .dataframe thead th {\n",
       "        text-align: right;\n",
       "    }\n",
       "</style>\n",
       "<table border=\"1\" class=\"dataframe\">\n",
       "  <thead>\n",
       "    <tr style=\"text-align: right;\">\n",
       "      <th></th>\n",
       "      <th>children</th>\n",
       "      <th>teenager</th>\n",
       "      <th>adults</th>\n",
       "      <th>senior citizen</th>\n",
       "    </tr>\n",
       "  </thead>\n",
       "  <tbody>\n",
       "    <tr>\n",
       "      <th>0</th>\n",
       "      <td>0.05</td>\n",
       "      <td>0.38</td>\n",
       "      <td>0.55</td>\n",
       "      <td>0.02</td>\n",
       "    </tr>\n",
       "    <tr>\n",
       "      <th>1</th>\n",
       "      <td>25.00</td>\n",
       "      <td>50.00</td>\n",
       "      <td>90.00</td>\n",
       "      <td>15.00</td>\n",
       "    </tr>\n",
       "  </tbody>\n",
       "</table>\n",
       "</div>"
      ],
      "text/plain": [
       "   children  teenager  adults  senior citizen\n",
       "0      0.05      0.38    0.55            0.02\n",
       "1     25.00     50.00   90.00           15.00"
      ]
     },
     "execution_count": 201,
     "metadata": {},
     "output_type": "execute_result"
    }
   ],
   "source": [
    "df"
   ]
  },
  {
   "cell_type": "code",
   "execution_count": 204,
   "id": "220843ef",
   "metadata": {},
   "outputs": [
    {
     "name": "stdout",
     "output_type": "stream",
     "text": [
      "reject h0\n"
     ]
    }
   ],
   "source": [
    "p_value=stats.chisquare(observed,expected).pvalue\n",
    "\n",
    "if p_value<.05:\n",
    "    print(\"reject h0\")\n",
    "else:\n",
    "    print(\"fail to reject h0\")"
   ]
  },
  {
   "cell_type": "markdown",
   "id": "2d5f618f",
   "metadata": {},
   "source": [
    "### Example:\n",
    "\n",
    "#### 1. Check if there is any relationship between the gender and education level of students with 95% confidence. \n",
    "\n",
    "Use the performance dataset of students available in the CSV file `students_data.csv`."
   ]
  },
  {
   "cell_type": "code",
   "execution_count": 205,
   "id": "c42bbc41",
   "metadata": {},
   "outputs": [
    {
     "data": {
      "text/html": [
       "<div>\n",
       "<style scoped>\n",
       "    .dataframe tbody tr th:only-of-type {\n",
       "        vertical-align: middle;\n",
       "    }\n",
       "\n",
       "    .dataframe tbody tr th {\n",
       "        vertical-align: top;\n",
       "    }\n",
       "\n",
       "    .dataframe thead th {\n",
       "        text-align: right;\n",
       "    }\n",
       "</style>\n",
       "<table border=\"1\" class=\"dataframe\">\n",
       "  <thead>\n",
       "    <tr style=\"text-align: right;\">\n",
       "      <th></th>\n",
       "      <th>gender</th>\n",
       "      <th>ethnicity</th>\n",
       "      <th>education</th>\n",
       "      <th>lunch</th>\n",
       "      <th>test_prep_course</th>\n",
       "      <th>math_score</th>\n",
       "      <th>reading_score</th>\n",
       "      <th>writing_score</th>\n",
       "      <th>total_score</th>\n",
       "      <th>training_institute</th>\n",
       "    </tr>\n",
       "  </thead>\n",
       "  <tbody>\n",
       "    <tr>\n",
       "      <th>0</th>\n",
       "      <td>female</td>\n",
       "      <td>group B</td>\n",
       "      <td>bachelor's degree</td>\n",
       "      <td>standard</td>\n",
       "      <td>none</td>\n",
       "      <td>89</td>\n",
       "      <td>55</td>\n",
       "      <td>56</td>\n",
       "      <td>200</td>\n",
       "      <td>Nature Learning</td>\n",
       "    </tr>\n",
       "    <tr>\n",
       "      <th>1</th>\n",
       "      <td>female</td>\n",
       "      <td>group C</td>\n",
       "      <td>college</td>\n",
       "      <td>standard</td>\n",
       "      <td>completed</td>\n",
       "      <td>55</td>\n",
       "      <td>63</td>\n",
       "      <td>72</td>\n",
       "      <td>190</td>\n",
       "      <td>Nature Learning</td>\n",
       "    </tr>\n",
       "    <tr>\n",
       "      <th>2</th>\n",
       "      <td>female</td>\n",
       "      <td>group B</td>\n",
       "      <td>master's degree</td>\n",
       "      <td>standard</td>\n",
       "      <td>none</td>\n",
       "      <td>64</td>\n",
       "      <td>71</td>\n",
       "      <td>56</td>\n",
       "      <td>191</td>\n",
       "      <td>Nature Learning</td>\n",
       "    </tr>\n",
       "  </tbody>\n",
       "</table>\n",
       "</div>"
      ],
      "text/plain": [
       "   gender ethnicity          education     lunch test_prep_course  math_score  \\\n",
       "0  female   group B  bachelor's degree  standard             none          89   \n",
       "1  female   group C            college  standard        completed          55   \n",
       "2  female   group B    master's degree  standard             none          64   \n",
       "\n",
       "   reading_score  writing_score  total_score training_institute  \n",
       "0             55             56          200    Nature Learning  \n",
       "1             63             72          190    Nature Learning  \n",
       "2             71             56          191    Nature Learning  "
      ]
     },
     "execution_count": 205,
     "metadata": {},
     "output_type": "execute_result"
    }
   ],
   "source": [
    "data=pd.read_csv('students_data.csv')\n",
    "data.head(3)\n",
    "\n",
    "# h0:variables are independent\n",
    "# H1: Variables are not independent\n"
   ]
  },
  {
   "cell_type": "code",
   "execution_count": 209,
   "id": "49443538",
   "metadata": {},
   "outputs": [],
   "source": [
    "\n",
    "p_value=stats.chi2_contingency(pd.crosstab(data['education'],data['gender'])).pvalue"
   ]
  },
  {
   "cell_type": "code",
   "execution_count": 210,
   "id": "45975018",
   "metadata": {},
   "outputs": [
    {
     "name": "stdout",
     "output_type": "stream",
     "text": [
      "Fail to reject H0\n"
     ]
    }
   ],
   "source": [
    "if p_value<.05:\n",
    "    print(\"Reject H0\")\n",
    "else:\n",
    "    print(\"Fail to reject H0\")"
   ]
  },
  {
   "cell_type": "code",
   "execution_count": 214,
   "id": "bddd1164",
   "metadata": {},
   "outputs": [
    {
     "data": {
      "text/plain": [
       "Chi2ContingencyResult(statistic=0.07023411371237459, pvalue=0.790996215494177, dof=1, expected_freq=array([[92., 52.],\n",
       "       [69., 39.]]))"
      ]
     },
     "execution_count": 214,
     "metadata": {},
     "output_type": "execute_result"
    }
   ],
   "source": [
    "stats.chi2_contingency([[93, 51], [68, 40]],correction=False)"
   ]
  },
  {
   "cell_type": "markdown",
   "id": "6095eccc",
   "metadata": {},
   "source": [
    "### Example:\n",
    "\n",
    "#### 1. Total marks in aptitude exam are recorded for students with different race/ethnicity. Test whether all the races/ethnicities have an equal average score with 0.05 level of significance. \n",
    "Use the performance dataset of students available in the CSV file `students_data.csv`."
   ]
  },
  {
   "cell_type": "code",
   "execution_count": 218,
   "id": "a4f18ee0",
   "metadata": {},
   "outputs": [
    {
     "data": {
      "text/html": [
       "<div>\n",
       "<style scoped>\n",
       "    .dataframe tbody tr th:only-of-type {\n",
       "        vertical-align: middle;\n",
       "    }\n",
       "\n",
       "    .dataframe tbody tr th {\n",
       "        vertical-align: top;\n",
       "    }\n",
       "\n",
       "    .dataframe thead th {\n",
       "        text-align: right;\n",
       "    }\n",
       "</style>\n",
       "<table border=\"1\" class=\"dataframe\">\n",
       "  <thead>\n",
       "    <tr style=\"text-align: right;\">\n",
       "      <th></th>\n",
       "      <th>gender</th>\n",
       "      <th>ethnicity</th>\n",
       "      <th>education</th>\n",
       "      <th>lunch</th>\n",
       "      <th>test_prep_course</th>\n",
       "      <th>math_score</th>\n",
       "      <th>reading_score</th>\n",
       "      <th>writing_score</th>\n",
       "      <th>total_score</th>\n",
       "      <th>training_institute</th>\n",
       "    </tr>\n",
       "  </thead>\n",
       "  <tbody>\n",
       "    <tr>\n",
       "      <th>0</th>\n",
       "      <td>female</td>\n",
       "      <td>group B</td>\n",
       "      <td>bachelor's degree</td>\n",
       "      <td>standard</td>\n",
       "      <td>none</td>\n",
       "      <td>89</td>\n",
       "      <td>55</td>\n",
       "      <td>56</td>\n",
       "      <td>200</td>\n",
       "      <td>Nature Learning</td>\n",
       "    </tr>\n",
       "    <tr>\n",
       "      <th>1</th>\n",
       "      <td>female</td>\n",
       "      <td>group C</td>\n",
       "      <td>college</td>\n",
       "      <td>standard</td>\n",
       "      <td>completed</td>\n",
       "      <td>55</td>\n",
       "      <td>63</td>\n",
       "      <td>72</td>\n",
       "      <td>190</td>\n",
       "      <td>Nature Learning</td>\n",
       "    </tr>\n",
       "  </tbody>\n",
       "</table>\n",
       "</div>"
      ],
      "text/plain": [
       "   gender ethnicity          education     lunch test_prep_course  math_score  \\\n",
       "0  female   group B  bachelor's degree  standard             none          89   \n",
       "1  female   group C            college  standard        completed          55   \n",
       "\n",
       "   reading_score  writing_score  total_score training_institute  \n",
       "0             55             56          200    Nature Learning  \n",
       "1             63             72          190    Nature Learning  "
      ]
     },
     "execution_count": 218,
     "metadata": {},
     "output_type": "execute_result"
    }
   ],
   "source": [
    "data=pd.read_csv('students_data.csv')\n",
    "data.head(2)"
   ]
  },
  {
   "cell_type": "markdown",
   "id": "f88d7180",
   "metadata": {},
   "source": [
    "The null and alternative hypothesis is:\n",
    "\n",
    "H0: The average score of all races/ethnicities is same\n",
    "H1: At least one race/ethnicity has a different average score"
   ]
  },
  {
   "cell_type": "code",
   "execution_count": 217,
   "id": "711ef1e7",
   "metadata": {},
   "outputs": [],
   "source": [
    "# h0:Average score of all race is same\n",
    "# h1:atleast one race has differenct race    "
   ]
  },
  {
   "cell_type": "code",
   "execution_count": 220,
   "id": "826bb5b5",
   "metadata": {},
   "outputs": [
    {
     "data": {
      "text/plain": [
       "array(['group B', 'group C', 'group A', 'group D', 'group E'],\n",
       "      dtype=object)"
      ]
     },
     "execution_count": 220,
     "metadata": {},
     "output_type": "execute_result"
    }
   ],
   "source": [
    "data['ethnicity'].unique()"
   ]
  },
  {
   "cell_type": "code",
   "execution_count": 223,
   "id": "af76c955",
   "metadata": {},
   "outputs": [],
   "source": [
    "grp_a=data[data['ethnicity']=='group A']['total_score'].values\n",
    "grp_b=data[data['ethnicity']=='group B']['total_score'].values\n",
    "grp_c=data[data['ethnicity']=='group C']['total_score'].values\n",
    "grp_d=data[data['ethnicity']=='group D']['total_score'].values\n",
    "grp_e=data[data['ethnicity']=='group E']['total_score'].values\n"
   ]
  },
  {
   "cell_type": "code",
   "execution_count": 227,
   "id": "7655fef8",
   "metadata": {},
   "outputs": [
    {
     "name": "stdout",
     "output_type": "stream",
     "text": [
      "Fail to reject H0:data is normal\n",
      "Fail to reject H0:variances are equal\n"
     ]
    }
   ],
   "source": [
    "# # assumption \n",
    "# part 1: normal distribution\n",
    "p_value=stats.shapiro(data['total_score']).pvalue\n",
    "\n",
    "if p_value<.05:\n",
    "    print(\"Reject H0:Data is not normal\")\n",
    "else:\n",
    "    print(\"Fail to reject H0:data is normal\")\n",
    "      \n",
    "# part 2: have equal variance    \n",
    "p_value=stats.levene(grp_a,grp_b,grp_c,grp_d,grp_e).pvalue\n",
    "\n",
    "if p_value<.05:\n",
    "    print(\"Reject H0:Variances are not equal\")\n",
    "else:\n",
    "    print(\"Fail to reject H0:variances are equal\")\n"
   ]
  },
  {
   "cell_type": "code",
   "execution_count": 241,
   "id": "7d6f834b",
   "metadata": {},
   "outputs": [
    {
     "name": "stdout",
     "output_type": "stream",
     "text": [
      "Fail to reject H)\n"
     ]
    }
   ],
   "source": [
    "p_value=stats.f_oneway(grp_a,grp_b,grp_c,grp_d,grp_e).pvalue\n",
    "if p_value<.05:\n",
    "    print(\"reject H0\")\n",
    "else:\n",
    "    print(\"Fail to reject H)\")"
   ]
  },
  {
   "cell_type": "code",
   "execution_count": 231,
   "id": "75857c50",
   "metadata": {},
   "outputs": [],
   "source": [
    "import statsmodels.formula.api as sfa\n",
    "import statsmodels.api as sma "
   ]
  },
  {
   "cell_type": "code",
   "execution_count": 240,
   "id": "82d3c963",
   "metadata": {},
   "outputs": [
    {
     "data": {
      "text/html": [
       "<div>\n",
       "<style scoped>\n",
       "    .dataframe tbody tr th:only-of-type {\n",
       "        vertical-align: middle;\n",
       "    }\n",
       "\n",
       "    .dataframe tbody tr th {\n",
       "        vertical-align: top;\n",
       "    }\n",
       "\n",
       "    .dataframe thead th {\n",
       "        text-align: right;\n",
       "    }\n",
       "</style>\n",
       "<table border=\"1\" class=\"dataframe\">\n",
       "  <thead>\n",
       "    <tr style=\"text-align: right;\">\n",
       "      <th></th>\n",
       "      <th>df</th>\n",
       "      <th>sum_sq</th>\n",
       "      <th>mean_sq</th>\n",
       "      <th>F</th>\n",
       "      <th>PR(&gt;F)</th>\n",
       "    </tr>\n",
       "  </thead>\n",
       "  <tbody>\n",
       "    <tr>\n",
       "      <th>ethnicity</th>\n",
       "      <td>4.0</td>\n",
       "      <td>1699.671655</td>\n",
       "      <td>424.917914</td>\n",
       "      <td>0.78911</td>\n",
       "      <td>0.532294</td>\n",
       "    </tr>\n",
       "    <tr>\n",
       "      <th>Residual</th>\n",
       "      <td>995.0</td>\n",
       "      <td>535785.303345</td>\n",
       "      <td>538.477692</td>\n",
       "      <td>NaN</td>\n",
       "      <td>NaN</td>\n",
       "    </tr>\n",
       "  </tbody>\n",
       "</table>\n",
       "</div>"
      ],
      "text/plain": [
       "              df         sum_sq     mean_sq        F    PR(>F)\n",
       "ethnicity    4.0    1699.671655  424.917914  0.78911  0.532294\n",
       "Residual   995.0  535785.303345  538.477692      NaN       NaN"
      ]
     },
     "execution_count": 240,
     "metadata": {},
     "output_type": "execute_result"
    }
   ],
   "source": [
    "model=sfa.ols('total_score ~ ethnicity ',data=data).fit()\n",
    "sma.stats.anova_lm(model)"
   ]
  },
  {
   "cell_type": "code",
   "execution_count": 239,
   "id": "a9c51b62",
   "metadata": {},
   "outputs": [
    {
     "data": {
      "text/plain": [
       "<statsmodels.regression.linear_model.RegressionResultsWrapper at 0x1bdd3aa4dd0>"
      ]
     },
     "execution_count": 239,
     "metadata": {},
     "output_type": "execute_result"
    }
   ],
   "source": [
    "from statsmodels.stats.multicomp import pairwise_tukeyhsd\n",
    "print(pairwise_tukeyhsd(mean_pressure_df['Mean_Pressure'], mean_pressure_df['Car_Type']))"
   ]
  },
  {
   "cell_type": "code",
   "execution_count": 242,
   "id": "fed7f00c",
   "metadata": {},
   "outputs": [],
   "source": [
    "from statsmodels.stats.multicomp import pairwise_tukeyhsd"
   ]
  },
  {
   "cell_type": "code",
   "execution_count": 244,
   "id": "2bfe0ca1",
   "metadata": {},
   "outputs": [],
   "source": [
    "tukey_hsd=pairwise_tukeyhsd(data['total_score'],data['ethnicity'])"
   ]
  },
  {
   "cell_type": "code",
   "execution_count": 248,
   "id": "d81776d3",
   "metadata": {},
   "outputs": [
    {
     "name": "stdout",
     "output_type": "stream",
     "text": [
      " Multiple Comparison of Means - Tukey HSD, FWER=0.05  \n",
      "======================================================\n",
      " group1  group2 meandiff p-adj   lower   upper  reject\n",
      "------------------------------------------------------\n",
      "group A group B   2.8789 0.8689 -5.2357 10.9936  False\n",
      "group A group C  -0.8712 0.9979 -8.4401  6.6978  False\n",
      "group A group D    0.536 0.9997 -7.2158  8.2878  False\n",
      "group A group E   0.6143 0.9997 -7.9535  9.1821  False\n",
      "group B group C  -3.7501 0.3957 -9.5614  2.0612  False\n",
      "group B group D  -2.3429 0.8276 -8.3905  3.7046  False\n",
      "group B group E  -2.2647 0.9057 -9.3279  4.7986  False\n",
      "group C group D   1.4072 0.9504 -3.8857     6.7  False\n",
      "group C group E   1.4854   0.97 -4.9435  7.9143  False\n",
      "group D group E   0.0783    1.0 -6.5649  6.7215  False\n",
      "------------------------------------------------------\n"
     ]
    }
   ],
   "source": [
    "print(tukey_hsd)"
   ]
  },
  {
   "cell_type": "code",
   "execution_count": 249,
   "id": "5d0271d3",
   "metadata": {},
   "outputs": [
    {
     "data": {
      "text/html": [
       "<div>\n",
       "<style scoped>\n",
       "    .dataframe tbody tr th:only-of-type {\n",
       "        vertical-align: middle;\n",
       "    }\n",
       "\n",
       "    .dataframe tbody tr th {\n",
       "        vertical-align: top;\n",
       "    }\n",
       "\n",
       "    .dataframe thead th {\n",
       "        text-align: right;\n",
       "    }\n",
       "</style>\n",
       "<table border=\"1\" class=\"dataframe\">\n",
       "  <thead>\n",
       "    <tr style=\"text-align: right;\">\n",
       "      <th></th>\n",
       "      <th>gender</th>\n",
       "      <th>ethnicity</th>\n",
       "      <th>education</th>\n",
       "      <th>lunch</th>\n",
       "      <th>test_prep_course</th>\n",
       "      <th>math_score</th>\n",
       "      <th>reading_score</th>\n",
       "      <th>writing_score</th>\n",
       "      <th>total_score</th>\n",
       "      <th>training_institute</th>\n",
       "    </tr>\n",
       "  </thead>\n",
       "  <tbody>\n",
       "    <tr>\n",
       "      <th>0</th>\n",
       "      <td>female</td>\n",
       "      <td>group B</td>\n",
       "      <td>bachelor's degree</td>\n",
       "      <td>standard</td>\n",
       "      <td>none</td>\n",
       "      <td>89</td>\n",
       "      <td>55</td>\n",
       "      <td>56</td>\n",
       "      <td>200</td>\n",
       "      <td>Nature Learning</td>\n",
       "    </tr>\n",
       "    <tr>\n",
       "      <th>1</th>\n",
       "      <td>female</td>\n",
       "      <td>group C</td>\n",
       "      <td>college</td>\n",
       "      <td>standard</td>\n",
       "      <td>completed</td>\n",
       "      <td>55</td>\n",
       "      <td>63</td>\n",
       "      <td>72</td>\n",
       "      <td>190</td>\n",
       "      <td>Nature Learning</td>\n",
       "    </tr>\n",
       "    <tr>\n",
       "      <th>2</th>\n",
       "      <td>female</td>\n",
       "      <td>group B</td>\n",
       "      <td>master's degree</td>\n",
       "      <td>standard</td>\n",
       "      <td>none</td>\n",
       "      <td>64</td>\n",
       "      <td>71</td>\n",
       "      <td>56</td>\n",
       "      <td>191</td>\n",
       "      <td>Nature Learning</td>\n",
       "    </tr>\n",
       "    <tr>\n",
       "      <th>3</th>\n",
       "      <td>male</td>\n",
       "      <td>group A</td>\n",
       "      <td>associate's degree</td>\n",
       "      <td>free/reduced</td>\n",
       "      <td>none</td>\n",
       "      <td>60</td>\n",
       "      <td>99</td>\n",
       "      <td>72</td>\n",
       "      <td>231</td>\n",
       "      <td>Nature Learning</td>\n",
       "    </tr>\n",
       "    <tr>\n",
       "      <th>4</th>\n",
       "      <td>male</td>\n",
       "      <td>group C</td>\n",
       "      <td>college</td>\n",
       "      <td>standard</td>\n",
       "      <td>none</td>\n",
       "      <td>75</td>\n",
       "      <td>66</td>\n",
       "      <td>51</td>\n",
       "      <td>192</td>\n",
       "      <td>Nature Learning</td>\n",
       "    </tr>\n",
       "  </tbody>\n",
       "</table>\n",
       "</div>"
      ],
      "text/plain": [
       "   gender ethnicity           education         lunch test_prep_course  \\\n",
       "0  female   group B   bachelor's degree      standard             none   \n",
       "1  female   group C             college      standard        completed   \n",
       "2  female   group B     master's degree      standard             none   \n",
       "3    male   group A  associate's degree  free/reduced             none   \n",
       "4    male   group C             college      standard             none   \n",
       "\n",
       "   math_score  reading_score  writing_score  total_score training_institute  \n",
       "0          89             55             56          200    Nature Learning  \n",
       "1          55             63             72          190    Nature Learning  \n",
       "2          64             71             56          191    Nature Learning  \n",
       "3          60             99             72          231    Nature Learning  \n",
       "4          75             66             51          192    Nature Learning  "
      ]
     },
     "execution_count": 249,
     "metadata": {},
     "output_type": "execute_result"
    }
   ],
   "source": [
    "data.head()"
   ]
  },
  {
   "cell_type": "code",
   "execution_count": 250,
   "id": "fc9486c6",
   "metadata": {},
   "outputs": [
    {
     "data": {
      "text/plain": [
       "PearsonRResult(statistic=0.6626368421809106, pvalue=1.901379415273251e-127)"
      ]
     },
     "execution_count": 250,
     "metadata": {},
     "output_type": "execute_result"
    }
   ],
   "source": [
    "stats.pearsonr(data['math_score'],data['total_score'])"
   ]
  }
 ],
 "metadata": {
  "kernelspec": {
   "display_name": "Python 3 (ipykernel)",
   "language": "python",
   "name": "python3"
  },
  "language_info": {
   "codemirror_mode": {
    "name": "ipython",
    "version": 3
   },
   "file_extension": ".py",
   "mimetype": "text/x-python",
   "name": "python",
   "nbconvert_exporter": "python",
   "pygments_lexer": "ipython3",
   "version": "3.11.4"
  }
 },
 "nbformat": 4,
 "nbformat_minor": 5
}
